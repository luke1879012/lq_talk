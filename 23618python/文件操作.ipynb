{
 "cells": [
  {
   "cell_type": "markdown",
   "id": "3a2b318f",
   "metadata": {},
   "source": [
    "# 1. 文件操作"
   ]
  },
  {
   "cell_type": "markdown",
   "id": "a0db02d5",
   "metadata": {},
   "source": [
    "## 1.1. 文件的作用？\n",
    "永久存储"
   ]
  },
  {
   "cell_type": "markdown",
   "id": "d42359e5",
   "metadata": {},
   "source": [
    "## 1.2. 文件的打开 open\n",
    "open函数的常用形式\n",
    "```python\n",
    "f = open(file, mode='r', encoding=None)\n",
    "```\n",
    "* file: 必需，文件路径\n",
    "* mode: 可选，文件打开模式\n",
    "* encoding: 编码方式\n",
    "\n",
    "|mode | 说明 |\n",
    "| :--: | :--: |\n",
    "| r | 以只读方式打开文件。这是默认模式。|\n",
    "| w\t|打开一个文件只用于写入。如果该文件已存在则将其覆盖。如果该文件不存在，创建新文件|\n",
    "| rb | 以二进制格式打开一个文件用于只读|\n",
    "| wb | 以二进制格式打开一个文件只用于写入。如果该文件已存在则将其覆盖。如果该文件不存在，创建新文件|"
   ]
  },
  {
   "cell_type": "markdown",
   "id": "bd9c54fa",
   "metadata": {},
   "source": [
    "## 1.3. 文件的关闭 close\n",
    "```python\n",
    "f.close()\n",
    "```"
   ]
  },
  {
   "cell_type": "markdown",
   "id": "dd3a82dc",
   "metadata": {},
   "source": [
    "## 1.4. 示例"
   ]
  },
  {
   "cell_type": "code",
   "execution_count": 5,
   "id": "79dc65f3",
   "metadata": {},
   "outputs": [],
   "source": [
    "file_name = '1.txt'\n",
    "encoding = 'utf-8'"
   ]
  },
  {
   "cell_type": "markdown",
   "id": "f0eb9c89",
   "metadata": {},
   "source": [
    "### 写入"
   ]
  },
  {
   "cell_type": "code",
   "execution_count": 6,
   "id": "e0c0e6f5",
   "metadata": {},
   "outputs": [],
   "source": [
    "f = open(file_name, 'w', encoding=encoding)\n",
    "f.write('hello world!')\n",
    "f.write(\"\\n\")\n",
    "f.write(\"From Python\")\n",
    "f.close()"
   ]
  },
  {
   "cell_type": "markdown",
   "id": "c13f8cae",
   "metadata": {},
   "source": [
    "### 读取"
   ]
  },
  {
   "cell_type": "code",
   "execution_count": 7,
   "id": "a36e035a",
   "metadata": {},
   "outputs": [
    {
     "name": "stdout",
     "output_type": "stream",
     "text": [
      "hello world!\n",
      "From Python\n"
     ]
    }
   ],
   "source": [
    "# read\n",
    "f = open(file_name, 'r', encoding=encoding)\n",
    "data = f.read()\n",
    "print(data)\n",
    "f.close()"
   ]
  },
  {
   "cell_type": "code",
   "execution_count": 8,
   "id": "dc21ce26",
   "metadata": {},
   "outputs": [
    {
     "name": "stdout",
     "output_type": "stream",
     "text": [
      "['hello world!\\n', 'From Python']\n"
     ]
    }
   ],
   "source": [
    "# readlines\n",
    "f = open(file_name, 'r', encoding=encoding)\n",
    "data = f.readlines()\n",
    "print(data)\n",
    "f.close()"
   ]
  },
  {
   "cell_type": "code",
   "execution_count": 9,
   "id": "468cc8a3",
   "metadata": {},
   "outputs": [
    {
     "name": "stdout",
     "output_type": "stream",
     "text": [
      "1:  hello world!\n",
      "\n",
      "2:  From Python\n",
      "3:  \n",
      "4:  \n"
     ]
    }
   ],
   "source": [
    "# readline\n",
    "f = open(file_name, 'r', encoding=encoding)\n",
    "data = f.readline()\n",
    "print(\"1: \", data)\n",
    "data = f.readline()\n",
    "print(\"2: \", data)\n",
    "data = f.readline()\n",
    "print(\"3: \", data)\n",
    "data = f.readline()\n",
    "print(\"4: \", data)\n",
    "f.close()"
   ]
  },
  {
   "cell_type": "markdown",
   "id": "e97f62a2",
   "metadata": {},
   "source": [
    "## 1.5. 进化"
   ]
  },
  {
   "cell_type": "markdown",
   "id": "7db024a2",
   "metadata": {},
   "source": [
    "### with 语法糖\n",
    "每次需要手动关闭，文件对象，一方面写的时候太麻烦，另一方面可能会遗忘\n",
    "\n",
    "因此出现了with语句，会自动进行关闭和清理操作"
   ]
  },
  {
   "cell_type": "code",
   "execution_count": 10,
   "id": "cb937e47",
   "metadata": {},
   "outputs": [
    {
     "name": "stdout",
     "output_type": "stream",
     "text": [
      "hello world!\n",
      "From Python\n"
     ]
    }
   ],
   "source": [
    "with open(file_name, 'r', encoding=encoding) as f:\n",
    "    data = f.read()\n",
    "    print(data)"
   ]
  },
  {
   "cell_type": "code",
   "execution_count": 11,
   "id": "78bf9fef",
   "metadata": {},
   "outputs": [
    {
     "name": "stdout",
     "output_type": "stream",
     "text": [
      "__init__\n",
      "__enter__\n",
      "read 1.txt\n",
      "__exit__\n"
     ]
    }
   ],
   "source": [
    "class File:\n",
    "    def __init__(self, file_name):\n",
    "        self.file_name = file_name\n",
    "        print(\"__init__\")\n",
    "        \n",
    "    def __enter__(self):\n",
    "        print('__enter__')\n",
    "        return self\n",
    "    \n",
    "    def read(self):\n",
    "        print(\"read\", self.file_name)\n",
    "        \n",
    "    def __exit__(self, exc_type, exc_value, traceback):\n",
    "        print(\"__exit__\")\n",
    "        \n",
    "\n",
    "with File('1.txt') as my_f:\n",
    "    my_f.read()"
   ]
  },
  {
   "cell_type": "markdown",
   "id": "189a59c8",
   "metadata": {},
   "source": [
    "### 编码"
   ]
  },
  {
   "cell_type": "markdown",
   "id": "abb02612",
   "metadata": {},
   "source": [
    "什么是计算机内的编码？\n",
    "编码是将字符转换为计算机内部可处理的数字表示的过程。\n",
    "\n",
    "简单来说，是一种约定俗成。\n",
    "\n",
    "比如中国的方言：老婆在全国有一百多种叫法，武汉叫“堂客”，安庆叫“烧锅的”。\n",
    "由于表达的是同一个东西，所以一个权威机构出面，统一叫老婆\n",
    "\n",
    "---\n",
    "\n",
    "计算机层面也是如此，计算机内部只用0和1表示，通过不同的组合代表不同的意思\n",
    "\n",
    "假设有个字符集叫XXX：\n",
    "|二进制|意思|\n",
    "|:--:| :--: |\n",
    "| 001 | 你 |\n",
    "| 002 | 好 |\n",
    "| ... | ... |\n",
    "\n",
    "字符集 YYY：\n",
    "|二进制|意思|\n",
    "|:--:| :--: |\n",
    "| 001 | 已 |\n",
    "| 002 | 存 |\n",
    "| ... | ... |\n",
    "\n",
    "\n",
    "小红发送消息给张三，小红的字符集是XXX，张三的字符集是YYY\n",
    "\n",
    "---\n",
    "\n",
    "小红 -> `你好` => 字符集XXX编码 => `001002` ====网络传输===== `001002` => 字符集YYY解码 => `已存` -> 张三 (・_・?)\n",
    "\n",
    "---\n",
    "\n",
    "目前比较常用的字符集是: `GBK` 和 `utf-8`"
   ]
  },
  {
   "cell_type": "markdown",
   "id": "a7f63bc4",
   "metadata": {},
   "source": [
    "# 2. OS模块"
   ]
  },
  {
   "cell_type": "code",
   "execution_count": 12,
   "id": "d7567a08",
   "metadata": {},
   "outputs": [],
   "source": [
    "with open('os.txt', 'w', encoding=encoding) as f:\n",
    "    f.write(\"123\")"
   ]
  },
  {
   "cell_type": "markdown",
   "id": "d151575c",
   "metadata": {},
   "source": [
    "## 2.1. 文件重命名"
   ]
  },
  {
   "cell_type": "code",
   "execution_count": 13,
   "id": "f72596db",
   "metadata": {},
   "outputs": [],
   "source": [
    "import os\n",
    "os.rename(\"1.txt\", \"2.txt\")"
   ]
  },
  {
   "cell_type": "markdown",
   "id": "dc688901",
   "metadata": {},
   "source": [
    "## 2.2. 删除文件"
   ]
  },
  {
   "cell_type": "code",
   "execution_count": 14,
   "id": "65632a42",
   "metadata": {},
   "outputs": [],
   "source": [
    "import os\n",
    "os.remove(\"2.txt\")"
   ]
  },
  {
   "cell_type": "markdown",
   "id": "507d635e",
   "metadata": {},
   "source": [
    "## 2.3. 创建文件夹"
   ]
  },
  {
   "cell_type": "code",
   "execution_count": 25,
   "id": "20331b14",
   "metadata": {},
   "outputs": [],
   "source": [
    "import os\n",
    "os.mkdir(\"张三\")"
   ]
  },
  {
   "cell_type": "markdown",
   "id": "4bdccb6a",
   "metadata": {},
   "source": [
    "## 2.4. 获取当前目录"
   ]
  },
  {
   "cell_type": "code",
   "execution_count": 26,
   "id": "eaa21de7",
   "metadata": {},
   "outputs": [
    {
     "data": {
      "text/plain": [
       "'G:\\\\_code\\\\_github\\\\lq_talk\\\\23618python'"
      ]
     },
     "execution_count": 26,
     "metadata": {},
     "output_type": "execute_result"
    }
   ],
   "source": [
    "import os\n",
    "os.getcwd()"
   ]
  },
  {
   "cell_type": "markdown",
   "id": "4dd3bf7a",
   "metadata": {},
   "source": [
    "## 2.5. 获取目录列表"
   ]
  },
  {
   "cell_type": "code",
   "execution_count": 27,
   "id": "3e316c6a",
   "metadata": {},
   "outputs": [
    {
     "data": {
      "text/plain": [
       "['.ipynb_checkpoints',\n",
       " 'File方法.md',\n",
       " 'os.txt',\n",
       " 'requests.md',\n",
       " '__init__.py',\n",
       " '__test.py',\n",
       " '内置函数.md',\n",
       " '张三',\n",
       " '文件操作.ipynb']"
      ]
     },
     "execution_count": 27,
     "metadata": {},
     "output_type": "execute_result"
    }
   ],
   "source": [
    "import os\n",
    "os.listdir(\"./\")"
   ]
  },
  {
   "cell_type": "markdown",
   "id": "34cdd56c",
   "metadata": {},
   "source": [
    "## 2.6. 删除文件夹"
   ]
  },
  {
   "cell_type": "code",
   "execution_count": 28,
   "id": "b6ae0443",
   "metadata": {},
   "outputs": [],
   "source": [
    "import os\n",
    "os.rmdir(\"张三\")"
   ]
  },
  {
   "cell_type": "markdown",
   "id": "6bf7f309",
   "metadata": {},
   "source": [
    "# 3. 内置函数"
   ]
  },
  {
   "cell_type": "markdown",
   "id": "68e3a194",
   "metadata": {},
   "source": [
    "## 3.1. id() 获取内存地址"
   ]
  },
  {
   "cell_type": "code",
   "execution_count": 37,
   "id": "ca21f9e2",
   "metadata": {},
   "outputs": [
    {
     "data": {
      "text/plain": [
       "140714455205536"
      ]
     },
     "execution_count": 37,
     "metadata": {},
     "output_type": "execute_result"
    }
   ],
   "source": [
    "id(1)"
   ]
  },
  {
   "cell_type": "markdown",
   "id": "5013d3f0",
   "metadata": {},
   "source": [
    "## 3.2. range() \n",
    "基础语法：`range(start, stop[, step])`"
   ]
  },
  {
   "cell_type": "code",
   "execution_count": 41,
   "id": "c7ee878c",
   "metadata": {},
   "outputs": [
    {
     "data": {
      "text/plain": [
       "range(0, 10)"
      ]
     },
     "execution_count": 41,
     "metadata": {},
     "output_type": "execute_result"
    }
   ],
   "source": [
    "range(10)"
   ]
  },
  {
   "cell_type": "code",
   "execution_count": 42,
   "id": "228f8f98",
   "metadata": {},
   "outputs": [
    {
     "data": {
      "text/plain": [
       "[0, 1, 2, 3, 4, 5, 6, 7, 8, 9]"
      ]
     },
     "execution_count": 42,
     "metadata": {},
     "output_type": "execute_result"
    }
   ],
   "source": [
    "list(range(10))"
   ]
  },
  {
   "cell_type": "code",
   "execution_count": 43,
   "id": "8be634b3",
   "metadata": {},
   "outputs": [
    {
     "data": {
      "text/plain": [
       "[0, 2, 4, 6, 8]"
      ]
     },
     "execution_count": 43,
     "metadata": {},
     "output_type": "execute_result"
    }
   ],
   "source": [
    "list(range(0, 10, 2))"
   ]
  },
  {
   "cell_type": "markdown",
   "id": "3ae1957e",
   "metadata": {},
   "source": [
    "## 3.3. max() min() len() sum()"
   ]
  },
  {
   "cell_type": "code",
   "execution_count": 44,
   "id": "81612d5a",
   "metadata": {},
   "outputs": [],
   "source": [
    "lst = [1, 10, -2]"
   ]
  },
  {
   "cell_type": "code",
   "execution_count": 45,
   "id": "03d90231",
   "metadata": {},
   "outputs": [
    {
     "data": {
      "text/plain": [
       "10"
      ]
     },
     "execution_count": 45,
     "metadata": {},
     "output_type": "execute_result"
    }
   ],
   "source": [
    "max(lst)"
   ]
  },
  {
   "cell_type": "code",
   "execution_count": 46,
   "id": "0530cda6",
   "metadata": {},
   "outputs": [
    {
     "data": {
      "text/plain": [
       "-2"
      ]
     },
     "execution_count": 46,
     "metadata": {},
     "output_type": "execute_result"
    }
   ],
   "source": [
    "min(lst)"
   ]
  },
  {
   "cell_type": "code",
   "execution_count": 47,
   "id": "8adc349c",
   "metadata": {},
   "outputs": [
    {
     "data": {
      "text/plain": [
       "3"
      ]
     },
     "execution_count": 47,
     "metadata": {},
     "output_type": "execute_result"
    }
   ],
   "source": [
    "len(lst)"
   ]
  },
  {
   "cell_type": "code",
   "execution_count": 48,
   "id": "6bd687aa",
   "metadata": {},
   "outputs": [
    {
     "data": {
      "text/plain": [
       "9"
      ]
     },
     "execution_count": 48,
     "metadata": {},
     "output_type": "execute_result"
    }
   ],
   "source": [
    "sum(lst)"
   ]
  },
  {
   "cell_type": "markdown",
   "id": "072affcf",
   "metadata": {},
   "source": [
    "## 3.4. map()  作用与每个元素，返回新列表"
   ]
  },
  {
   "cell_type": "code",
   "execution_count": 49,
   "id": "d7f229c2",
   "metadata": {},
   "outputs": [],
   "source": [
    "lst = [1, 10, -2]"
   ]
  },
  {
   "cell_type": "code",
   "execution_count": 50,
   "id": "ecd12ab8",
   "metadata": {},
   "outputs": [],
   "source": [
    "def func(tmp):\n",
    "    return tmp * 2"
   ]
  },
  {
   "cell_type": "code",
   "execution_count": 55,
   "id": "462a8798",
   "metadata": {},
   "outputs": [
    {
     "data": {
      "text/plain": [
       "[2, 20, -4]"
      ]
     },
     "execution_count": 55,
     "metadata": {},
     "output_type": "execute_result"
    }
   ],
   "source": [
    "list(map(func, lst))"
   ]
  },
  {
   "cell_type": "markdown",
   "id": "345f01b4",
   "metadata": {},
   "source": [
    "## 3.5. all() 满足所有条件，返回True"
   ]
  },
  {
   "cell_type": "code",
   "execution_count": 58,
   "id": "52137eb3",
   "metadata": {},
   "outputs": [
    {
     "data": {
      "text/plain": [
       "[True, True, False]"
      ]
     },
     "execution_count": 58,
     "metadata": {},
     "output_type": "execute_result"
    }
   ],
   "source": [
    "lst = [1, 10, -2]\n",
    "def func2(tmp):\n",
    "    if tmp > 0:\n",
    "        return True\n",
    "    else:\n",
    "        return False\n",
    "lst2 = list(map(func2, lst))\n",
    "lst2"
   ]
  },
  {
   "cell_type": "code",
   "execution_count": 59,
   "id": "c8df524e",
   "metadata": {},
   "outputs": [
    {
     "data": {
      "text/plain": [
       "False"
      ]
     },
     "execution_count": 59,
     "metadata": {},
     "output_type": "execute_result"
    }
   ],
   "source": [
    "all(lst2)"
   ]
  },
  {
   "cell_type": "markdown",
   "id": "6ba85529",
   "metadata": {},
   "source": [
    "## 3.6. any() 满足一个条件，返回True"
   ]
  },
  {
   "cell_type": "code",
   "execution_count": 60,
   "id": "f8d285d6",
   "metadata": {},
   "outputs": [
    {
     "data": {
      "text/plain": [
       "[True, True, False]"
      ]
     },
     "execution_count": 60,
     "metadata": {},
     "output_type": "execute_result"
    }
   ],
   "source": [
    "lst = [1, 10, -2]\n",
    "def func2(tmp):\n",
    "    if tmp > 0:\n",
    "        return True\n",
    "    else:\n",
    "        return False\n",
    "lst2 = list(map(func2, lst))\n",
    "lst2"
   ]
  },
  {
   "cell_type": "code",
   "execution_count": 61,
   "id": "4b5b5e65",
   "metadata": {},
   "outputs": [
    {
     "data": {
      "text/plain": [
       "True"
      ]
     },
     "execution_count": 61,
     "metadata": {},
     "output_type": "execute_result"
    }
   ],
   "source": [
    "any(lst2)"
   ]
  },
  {
   "cell_type": "markdown",
   "id": "44e34526",
   "metadata": {},
   "source": [
    "# 4. 异常"
   ]
  },
  {
   "cell_type": "markdown",
   "id": "a1ab5a6d",
   "metadata": {},
   "source": [
    "## 4.1. 什么是异常？\n",
    "在Python程序不知道怎么处理时，就会发生一个异常"
   ]
  },
  {
   "cell_type": "markdown",
   "id": "a2104c37",
   "metadata": {},
   "source": [
    "## 4.2 异常处理"
   ]
  },
  {
   "cell_type": "markdown",
   "id": "0bf54eac",
   "metadata": {},
   "source": [
    "```python\n",
    "try:\n",
    "    <语句>        #运行别的代码\n",
    "except <名字>：\n",
    "    <语句>        #如果在try部份引发了'name'异常\n",
    "except <名字>，<数据>:\n",
    "    <语句>        #如果引发了'name'异常，获得附加的数据\n",
    "else:\n",
    "    <语句>        #如果没有异常发生\n",
    "```"
   ]
  }
 ],
 "metadata": {
  "kernelspec": {
   "display_name": "Python 3 (ipykernel)",
   "language": "python",
   "name": "python3"
  },
  "language_info": {
   "codemirror_mode": {
    "name": "ipython",
    "version": 3
   },
   "file_extension": ".py",
   "mimetype": "text/x-python",
   "name": "python",
   "nbconvert_exporter": "python",
   "pygments_lexer": "ipython3",
   "version": "3.8.6"
  }
 },
 "nbformat": 4,
 "nbformat_minor": 5
}
